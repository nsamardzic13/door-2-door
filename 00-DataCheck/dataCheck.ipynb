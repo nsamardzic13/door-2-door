{
 "cells": [
  {
   "cell_type": "code",
   "execution_count": 2,
   "metadata": {},
   "outputs": [],
   "source": [
    "import json\n",
    "import os\n",
    "\n",
    "import pandas as pd"
   ]
  },
  {
   "cell_type": "code",
   "execution_count": 3,
   "metadata": {},
   "outputs": [],
   "source": [
    "# set relative path to the data folder\n",
    "DATA_FOLDER_PATH = '../data/'\n",
    "\n",
    "# initialize empty dfs\n",
    "df = pd.DataFrame()\n",
    "\n",
    "for file in os.listdir(DATA_FOLDER_PATH):\n",
    "    data = []\n",
    "    with open(os.path.join(DATA_FOLDER_PATH, file), 'r') as f:\n",
    "        for line in f:\n",
    "            data.append(json.loads(line))\n",
    "\n",
    "    normalized_file_df = pd.json_normalize(data)\n",
    "\n",
    "    df = pd.concat([\n",
    "        df,\n",
    "        normalized_file_df,\n",
    "    ])"
   ]
  },
  {
   "attachments": {},
   "cell_type": "markdown",
   "metadata": {},
   "source": [
    "## Operating Period\n",
    "Note: We have only two rows in this df"
   ]
  },
  {
   "cell_type": "code",
   "execution_count": 4,
   "metadata": {},
   "outputs": [
    {
     "data": {
      "text/html": [
       "<div>\n",
       "<style scoped>\n",
       "    .dataframe tbody tr th:only-of-type {\n",
       "        vertical-align: middle;\n",
       "    }\n",
       "\n",
       "    .dataframe tbody tr th {\n",
       "        vertical-align: top;\n",
       "    }\n",
       "\n",
       "    .dataframe thead th {\n",
       "        text-align: right;\n",
       "    }\n",
       "</style>\n",
       "<table border=\"1\" class=\"dataframe\">\n",
       "  <thead>\n",
       "    <tr style=\"text-align: right;\">\n",
       "      <th></th>\n",
       "      <th>event</th>\n",
       "      <th>on</th>\n",
       "      <th>at</th>\n",
       "      <th>organization_id</th>\n",
       "      <th>data.id</th>\n",
       "      <th>data.start</th>\n",
       "      <th>data.finish</th>\n",
       "    </tr>\n",
       "  </thead>\n",
       "  <tbody>\n",
       "    <tr>\n",
       "      <th>0</th>\n",
       "      <td>create</td>\n",
       "      <td>operating_period</td>\n",
       "      <td>2019-06-01T18:17:03.087Z</td>\n",
       "      <td>org-id</td>\n",
       "      <td>op_2</td>\n",
       "      <td>2019-06-01T18:17:04.079Z</td>\n",
       "      <td>2019-06-01T18:22:04.079Z</td>\n",
       "    </tr>\n",
       "    <tr>\n",
       "      <th>0</th>\n",
       "      <td>create</td>\n",
       "      <td>operating_period</td>\n",
       "      <td>2019-06-01T18:17:04.086Z</td>\n",
       "      <td>org-id</td>\n",
       "      <td>op_1</td>\n",
       "      <td>2019-06-01T18:23:04.079Z</td>\n",
       "      <td>2019-06-01T18:28:04.079Z</td>\n",
       "    </tr>\n",
       "  </tbody>\n",
       "</table>\n",
       "</div>"
      ],
      "text/plain": [
       "    event                on                        at organization_id data.id  \\\n",
       "0  create  operating_period  2019-06-01T18:17:03.087Z          org-id    op_2   \n",
       "0  create  operating_period  2019-06-01T18:17:04.086Z          org-id    op_1   \n",
       "\n",
       "                 data.start               data.finish  \n",
       "0  2019-06-01T18:17:04.079Z  2019-06-01T18:22:04.079Z  \n",
       "0  2019-06-01T18:23:04.079Z  2019-06-01T18:28:04.079Z  "
      ]
     },
     "execution_count": 4,
     "metadata": {},
     "output_type": "execute_result"
    }
   ],
   "source": [
    "operating_period_columns = ['event', 'on', 'at', 'organization_id', 'data.id', 'data.start', 'data.finish']\n",
    "df_operating_period = df.loc[df['on'] == 'operating_period'][operating_period_columns]\n",
    "df_operating_period"
   ]
  },
  {
   "attachments": {},
   "cell_type": "markdown",
   "metadata": {},
   "source": [
    "## Vehicle"
   ]
  },
  {
   "attachments": {},
   "cell_type": "markdown",
   "metadata": {},
   "source": [
    "#### Data Example"
   ]
  },
  {
   "cell_type": "code",
   "execution_count": 5,
   "metadata": {},
   "outputs": [
    {
     "data": {
      "text/html": [
       "<div>\n",
       "<style scoped>\n",
       "    .dataframe tbody tr th:only-of-type {\n",
       "        vertical-align: middle;\n",
       "    }\n",
       "\n",
       "    .dataframe tbody tr th {\n",
       "        vertical-align: top;\n",
       "    }\n",
       "\n",
       "    .dataframe thead th {\n",
       "        text-align: right;\n",
       "    }\n",
       "</style>\n",
       "<table border=\"1\" class=\"dataframe\">\n",
       "  <thead>\n",
       "    <tr style=\"text-align: right;\">\n",
       "      <th></th>\n",
       "      <th>event</th>\n",
       "      <th>on</th>\n",
       "      <th>at</th>\n",
       "      <th>organization_id</th>\n",
       "      <th>data.id</th>\n",
       "      <th>data.location.lat</th>\n",
       "      <th>data.location.lng</th>\n",
       "      <th>data.location.at</th>\n",
       "    </tr>\n",
       "  </thead>\n",
       "  <tbody>\n",
       "    <tr>\n",
       "      <th>0</th>\n",
       "      <td>update</td>\n",
       "      <td>vehicle</td>\n",
       "      <td>2019-06-01T18:17:10.101Z</td>\n",
       "      <td>org-id</td>\n",
       "      <td>bac5188f-67c6-4965-81dc-4ef49622e280</td>\n",
       "      <td>52.45133</td>\n",
       "      <td>13.46045</td>\n",
       "      <td>2019-06-01T18:17:10.101Z</td>\n",
       "    </tr>\n",
       "    <tr>\n",
       "      <th>1</th>\n",
       "      <td>update</td>\n",
       "      <td>vehicle</td>\n",
       "      <td>2019-06-01T18:17:10.109Z</td>\n",
       "      <td>org-id</td>\n",
       "      <td>3a3eb23a-f22e-4fe9-8c20-f37220a81909</td>\n",
       "      <td>52.45848</td>\n",
       "      <td>13.52647</td>\n",
       "      <td>2019-06-01T18:17:10.109Z</td>\n",
       "    </tr>\n",
       "    <tr>\n",
       "      <th>2</th>\n",
       "      <td>update</td>\n",
       "      <td>vehicle</td>\n",
       "      <td>2019-06-01T18:17:10.109Z</td>\n",
       "      <td>org-id</td>\n",
       "      <td>f0b87796-b25c-40b0-9145-8822509c17e1</td>\n",
       "      <td>52.50309</td>\n",
       "      <td>13.33435</td>\n",
       "      <td>2019-06-01T18:17:10.109Z</td>\n",
       "    </tr>\n",
       "    <tr>\n",
       "      <th>3</th>\n",
       "      <td>update</td>\n",
       "      <td>vehicle</td>\n",
       "      <td>2019-06-01T18:17:10.111Z</td>\n",
       "      <td>org-id</td>\n",
       "      <td>9152c5d8-79cf-4fe3-96ad-359abb08a729</td>\n",
       "      <td>52.50536</td>\n",
       "      <td>13.51655</td>\n",
       "      <td>2019-06-01T18:17:10.111Z</td>\n",
       "    </tr>\n",
       "    <tr>\n",
       "      <th>4</th>\n",
       "      <td>update</td>\n",
       "      <td>vehicle</td>\n",
       "      <td>2019-06-01T18:17:10.111Z</td>\n",
       "      <td>org-id</td>\n",
       "      <td>f06eb89c-ada0-41cb-bdd1-0a60398f901b</td>\n",
       "      <td>52.49697</td>\n",
       "      <td>13.44936</td>\n",
       "      <td>2019-06-01T18:17:10.111Z</td>\n",
       "    </tr>\n",
       "    <tr>\n",
       "      <th>...</th>\n",
       "      <td>...</td>\n",
       "      <td>...</td>\n",
       "      <td>...</td>\n",
       "      <td>...</td>\n",
       "      <td>...</td>\n",
       "      <td>...</td>\n",
       "      <td>...</td>\n",
       "      <td>...</td>\n",
       "    </tr>\n",
       "    <tr>\n",
       "      <th>0</th>\n",
       "      <td>update</td>\n",
       "      <td>vehicle</td>\n",
       "      <td>2019-06-01T18:29:02.185Z</td>\n",
       "      <td>org-id</td>\n",
       "      <td>d57e9c3e-3479-47cd-9b20-9e317616a3f0</td>\n",
       "      <td>52.43576</td>\n",
       "      <td>13.41212</td>\n",
       "      <td>2019-06-01T18:29:02.185Z</td>\n",
       "    </tr>\n",
       "    <tr>\n",
       "      <th>1</th>\n",
       "      <td>deregister</td>\n",
       "      <td>vehicle</td>\n",
       "      <td>2019-06-01T18:29:02.186Z</td>\n",
       "      <td>org-id</td>\n",
       "      <td>cf25c1c6-1889-4dd1-95df-18141c4c746c</td>\n",
       "      <td>NaN</td>\n",
       "      <td>NaN</td>\n",
       "      <td>NaN</td>\n",
       "    </tr>\n",
       "    <tr>\n",
       "      <th>0</th>\n",
       "      <td>update</td>\n",
       "      <td>vehicle</td>\n",
       "      <td>2019-06-01T18:29:03.188Z</td>\n",
       "      <td>org-id</td>\n",
       "      <td>d57e9c3e-3479-47cd-9b20-9e317616a3f0</td>\n",
       "      <td>52.43604</td>\n",
       "      <td>13.41287</td>\n",
       "      <td>2019-06-01T18:29:03.188Z</td>\n",
       "    </tr>\n",
       "    <tr>\n",
       "      <th>0</th>\n",
       "      <td>update</td>\n",
       "      <td>vehicle</td>\n",
       "      <td>2019-06-01T18:29:04.195Z</td>\n",
       "      <td>org-id</td>\n",
       "      <td>d57e9c3e-3479-47cd-9b20-9e317616a3f0</td>\n",
       "      <td>52.43606</td>\n",
       "      <td>13.41305</td>\n",
       "      <td>2019-06-01T18:29:04.195Z</td>\n",
       "    </tr>\n",
       "    <tr>\n",
       "      <th>0</th>\n",
       "      <td>deregister</td>\n",
       "      <td>vehicle</td>\n",
       "      <td>2019-06-01T18:29:05.204Z</td>\n",
       "      <td>org-id</td>\n",
       "      <td>d57e9c3e-3479-47cd-9b20-9e317616a3f0</td>\n",
       "      <td>NaN</td>\n",
       "      <td>NaN</td>\n",
       "      <td>NaN</td>\n",
       "    </tr>\n",
       "  </tbody>\n",
       "</table>\n",
       "<p>35349 rows × 8 columns</p>\n",
       "</div>"
      ],
      "text/plain": [
       "         event       on                        at organization_id  \\\n",
       "0       update  vehicle  2019-06-01T18:17:10.101Z          org-id   \n",
       "1       update  vehicle  2019-06-01T18:17:10.109Z          org-id   \n",
       "2       update  vehicle  2019-06-01T18:17:10.109Z          org-id   \n",
       "3       update  vehicle  2019-06-01T18:17:10.111Z          org-id   \n",
       "4       update  vehicle  2019-06-01T18:17:10.111Z          org-id   \n",
       "..         ...      ...                       ...             ...   \n",
       "0       update  vehicle  2019-06-01T18:29:02.185Z          org-id   \n",
       "1   deregister  vehicle  2019-06-01T18:29:02.186Z          org-id   \n",
       "0       update  vehicle  2019-06-01T18:29:03.188Z          org-id   \n",
       "0       update  vehicle  2019-06-01T18:29:04.195Z          org-id   \n",
       "0   deregister  vehicle  2019-06-01T18:29:05.204Z          org-id   \n",
       "\n",
       "                                 data.id  data.location.lat  \\\n",
       "0   bac5188f-67c6-4965-81dc-4ef49622e280           52.45133   \n",
       "1   3a3eb23a-f22e-4fe9-8c20-f37220a81909           52.45848   \n",
       "2   f0b87796-b25c-40b0-9145-8822509c17e1           52.50309   \n",
       "3   9152c5d8-79cf-4fe3-96ad-359abb08a729           52.50536   \n",
       "4   f06eb89c-ada0-41cb-bdd1-0a60398f901b           52.49697   \n",
       "..                                   ...                ...   \n",
       "0   d57e9c3e-3479-47cd-9b20-9e317616a3f0           52.43576   \n",
       "1   cf25c1c6-1889-4dd1-95df-18141c4c746c                NaN   \n",
       "0   d57e9c3e-3479-47cd-9b20-9e317616a3f0           52.43604   \n",
       "0   d57e9c3e-3479-47cd-9b20-9e317616a3f0           52.43606   \n",
       "0   d57e9c3e-3479-47cd-9b20-9e317616a3f0                NaN   \n",
       "\n",
       "    data.location.lng          data.location.at  \n",
       "0            13.46045  2019-06-01T18:17:10.101Z  \n",
       "1            13.52647  2019-06-01T18:17:10.109Z  \n",
       "2            13.33435  2019-06-01T18:17:10.109Z  \n",
       "3            13.51655  2019-06-01T18:17:10.111Z  \n",
       "4            13.44936  2019-06-01T18:17:10.111Z  \n",
       "..                ...                       ...  \n",
       "0            13.41212  2019-06-01T18:29:02.185Z  \n",
       "1                 NaN                       NaN  \n",
       "0            13.41287  2019-06-01T18:29:03.188Z  \n",
       "0            13.41305  2019-06-01T18:29:04.195Z  \n",
       "0                 NaN                       NaN  \n",
       "\n",
       "[35349 rows x 8 columns]"
      ]
     },
     "execution_count": 5,
     "metadata": {},
     "output_type": "execute_result"
    }
   ],
   "source": [
    "df_vehicle_columns = ['event', 'on', 'at', 'organization_id', 'data.id', 'data.location.lat', 'data.location.lng', 'data.location.at']\n",
    "df_vehicle = df.loc[df['on'] == 'vehicle'][df_vehicle_columns]\n",
    "df_vehicle"
   ]
  },
  {
   "attachments": {},
   "cell_type": "markdown",
   "metadata": {},
   "source": [
    "#### Data Info"
   ]
  },
  {
   "cell_type": "code",
   "execution_count": 6,
   "metadata": {},
   "outputs": [
    {
     "name": "stdout",
     "output_type": "stream",
     "text": [
      "<class 'pandas.core.frame.DataFrame'>\n",
      "Int64Index: 35349 entries, 0 to 0\n",
      "Data columns (total 8 columns):\n",
      " #   Column             Non-Null Count  Dtype  \n",
      "---  ------             --------------  -----  \n",
      " 0   event              35349 non-null  object \n",
      " 1   on                 35349 non-null  object \n",
      " 2   at                 35349 non-null  object \n",
      " 3   organization_id    35349 non-null  object \n",
      " 4   data.id            35349 non-null  object \n",
      " 5   data.location.lat  35149 non-null  float64\n",
      " 6   data.location.lng  35149 non-null  float64\n",
      " 7   data.location.at   35149 non-null  object \n",
      "dtypes: float64(2), object(6)\n",
      "memory usage: 2.4+ MB\n"
     ]
    }
   ],
   "source": [
    "df_vehicle.info()"
   ]
  },
  {
   "attachments": {},
   "cell_type": "markdown",
   "metadata": {},
   "source": [
    "#### Null Counts"
   ]
  },
  {
   "cell_type": "code",
   "execution_count": 7,
   "metadata": {},
   "outputs": [
    {
     "data": {
      "text/plain": [
       "event                  0\n",
       "on                     0\n",
       "at                     0\n",
       "organization_id        0\n",
       "data.id                0\n",
       "data.location.lat    200\n",
       "data.location.lng    200\n",
       "data.location.at     200\n",
       "dtype: int64"
      ]
     },
     "execution_count": 7,
     "metadata": {},
     "output_type": "execute_result"
    }
   ],
   "source": [
    "df_vehicle.isna().sum()"
   ]
  },
  {
   "attachments": {},
   "cell_type": "markdown",
   "metadata": {},
   "source": [
    "Location values are not expected for register and deregister events. Checking only update values"
   ]
  },
  {
   "cell_type": "code",
   "execution_count": 8,
   "metadata": {},
   "outputs": [
    {
     "data": {
      "text/plain": [
       "event                0\n",
       "on                   0\n",
       "at                   0\n",
       "organization_id      0\n",
       "data.id              0\n",
       "data.location.lat    0\n",
       "data.location.lng    0\n",
       "data.location.at     0\n",
       "dtype: int64"
      ]
     },
     "execution_count": 8,
     "metadata": {},
     "output_type": "execute_result"
    }
   ],
   "source": [
    "df_vehicle.loc[df_vehicle['event'] == 'update'].isna().sum()"
   ]
  }
 ],
 "metadata": {
  "kernelspec": {
   "display_name": ".venv",
   "language": "python",
   "name": "python3"
  },
  "language_info": {
   "codemirror_mode": {
    "name": "ipython",
    "version": 3
   },
   "file_extension": ".py",
   "mimetype": "text/x-python",
   "name": "python",
   "nbconvert_exporter": "python",
   "pygments_lexer": "ipython3",
   "version": "3.9.11"
  },
  "orig_nbformat": 4,
  "vscode": {
   "interpreter": {
    "hash": "5282b7c11606e47763e005c2478b8cdabfb140b0b653ba34fa8eea43de7a1279"
   }
  }
 },
 "nbformat": 4,
 "nbformat_minor": 2
}
